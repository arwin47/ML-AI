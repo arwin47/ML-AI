{
 "cells": [
  {
   "cell_type": "markdown",
   "id": "207a80fc",
   "metadata": {},
   "source": [
    "### Classification of images with Convolutional Neural Network\n",
    "Goal is to classify a given image into either a dog or a cat."
   ]
  },
  {
   "cell_type": "markdown",
   "id": "ca05a2ed",
   "metadata": {},
   "source": [
    "#### Data pre-processing"
   ]
  },
  {
   "cell_type": "markdown",
   "id": "c6da481b",
   "metadata": {},
   "source": [
    "##### Libraries to process data"
   ]
  },
  {
   "cell_type": "code",
   "execution_count": 3,
   "id": "504140a4",
   "metadata": {},
   "outputs": [],
   "source": [
    "import tensorflow as tf\n",
    "from keras.preprocessing.image import ImageDataGenerator"
   ]
  },
  {
   "cell_type": "markdown",
   "id": "9e63d1a0",
   "metadata": {},
   "source": [
    "##### Processing training data\n",
    "To avoid overfitting, same images are transformed (augmented) by rotating, zooming, flipping etc"
   ]
  },
  {
   "cell_type": "markdown",
   "id": "4f9fdfaa",
   "metadata": {},
   "source": [
    "##### Create image transformer"
   ]
  },
  {
   "cell_type": "code",
   "execution_count": 7,
   "id": "ee5a9913",
   "metadata": {},
   "outputs": [],
   "source": [
    "train_data_transformer = ImageDataGenerator(rescale = 1./255 ,    # for scaling the image\n",
    "                                   shear_range = 0.2,            # for distorting/shearing the image , like pulling diagonally\n",
    "                                   zoom_range = 0.2,             # zooming the image\n",
    "                                   horizontal_flip = True)       # for flipping\n"
   ]
  },
  {
   "cell_type": "markdown",
   "id": "95c2b495",
   "metadata": {},
   "source": [
    "##### Transforming training set\n",
    "Using flow_from_directory() , passing the training images to the image transformer"
   ]
  },
  {
   "cell_type": "code",
   "execution_count": 8,
   "id": "67db468c",
   "metadata": {},
   "outputs": [
    {
     "name": "stdout",
     "output_type": "stream",
     "text": [
      "Found 8000 images belonging to 2 classes.\n"
     ]
    }
   ],
   "source": [
    "training_set = train_data_transformer.flow_from_directory(r'dataset\\training_set',\n",
    "                                                 target_size = (64, 64), # final image size\n",
    "                                                 batch_size = 32,        # no. of images in a batch\n",
    "                                                 class_mode = 'binary')  # type of outcome, here, it's cat or dog, so it si binary"
   ]
  },
  {
   "cell_type": "markdown",
   "id": "eb2cc600",
   "metadata": {},
   "source": [
    "##### Processing test data\n",
    "Can keep the test data intact but it needs to be on the same scale as the training data. So transforming with only rescale argument."
   ]
  },
  {
   "cell_type": "code",
   "execution_count": 9,
   "id": "47042e22",
   "metadata": {},
   "outputs": [],
   "source": [
    "test_data_transformer = ImageDataGenerator(rescale = 1./255)"
   ]
  },
  {
   "cell_type": "markdown",
   "id": "4b8271a5",
   "metadata": {},
   "source": [
    "##### Transforming test set\n",
    "Using flow_from_directory() , passing the test images to the image transformer"
   ]
  },
  {
   "cell_type": "code",
   "execution_count": 10,
   "id": "bdadb95f",
   "metadata": {},
   "outputs": [
    {
     "name": "stdout",
     "output_type": "stream",
     "text": [
      "Found 2000 images belonging to 2 classes.\n"
     ]
    }
   ],
   "source": [
    "test_set = test_data_transformer.flow_from_directory(r'dataset\\test_set',\n",
    "                                            target_size = (64, 64),\n",
    "                                            batch_size = 32,\n",
    "                                            class_mode = 'binary')"
   ]
  },
  {
   "cell_type": "markdown",
   "id": "632fe34c",
   "metadata": {},
   "source": [
    "#### Building Convolutional Neural Network"
   ]
  },
  {
   "cell_type": "markdown",
   "id": "83454ebe",
   "metadata": {},
   "source": [
    "##### Instantiating a neural network with sequential class"
   ]
  },
  {
   "cell_type": "code",
   "execution_count": 12,
   "id": "068440bc",
   "metadata": {},
   "outputs": [],
   "source": [
    "cnn = tf.keras.models.Sequential()"
   ]
  },
  {
   "cell_type": "markdown",
   "id": "64e63cb4",
   "metadata": {},
   "source": [
    "##### Adding Convolution layer\n",
    "Using 32 filters with a kernel(feature detector) size of 3x3 and 'relu' activation and specifying the input shape (same as the training_set output)\n",
    "\n",
    "Value 3 in input_shape=[64, 64, 3] indicates that the input in a coloured image set"
   ]
  },
  {
   "cell_type": "code",
   "execution_count": 13,
   "id": "b63a027a",
   "metadata": {},
   "outputs": [],
   "source": [
    "cnn.add(tf.keras.layers.Conv2D(filters=32, kernel_size=3, activation='relu', input_shape=[64, 64, 3]))"
   ]
  },
  {
   "cell_type": "markdown",
   "id": "24a3a1ad",
   "metadata": {},
   "source": [
    "##### Adding pooling layer\n",
    "Using pool_size of 2 which is the frame size of pooling frame and strides of 2 indicating that the pooling frame strides 2 pixels"
   ]
  },
  {
   "cell_type": "code",
   "execution_count": 14,
   "id": "83aafbdb",
   "metadata": {},
   "outputs": [],
   "source": [
    "cnn.add(tf.keras.layers.MaxPool2D(pool_size=2, strides=2))"
   ]
  },
  {
   "cell_type": "markdown",
   "id": "a5296ee6",
   "metadata": {},
   "source": [
    "##### Adding another Convolution layer"
   ]
  },
  {
   "cell_type": "code",
   "execution_count": 16,
   "id": "17774d4f",
   "metadata": {},
   "outputs": [],
   "source": [
    "cnn.add(tf.keras.layers.Conv2D(filters=32, kernel_size=3, activation='relu'))"
   ]
  },
  {
   "cell_type": "markdown",
   "id": "6989ac09",
   "metadata": {},
   "source": [
    "##### Adding another pooling layer"
   ]
  },
  {
   "cell_type": "code",
   "execution_count": 17,
   "id": "f1acffaf",
   "metadata": {},
   "outputs": [],
   "source": [
    "cnn.add(tf.keras.layers.MaxPool2D(pool_size=2, strides=2))"
   ]
  },
  {
   "cell_type": "markdown",
   "id": "aa32f77f",
   "metadata": {},
   "source": [
    "##### Adding Flattening layer\n",
    "To flatten the results of convolution and pooling layers into one dimensional vector to be used as input to fully connected neural network layers"
   ]
  },
  {
   "cell_type": "code",
   "execution_count": 18,
   "id": "0a5dcc91",
   "metadata": {},
   "outputs": [],
   "source": [
    "cnn.add(tf.keras.layers.Flatten())"
   ]
  },
  {
   "cell_type": "markdown",
   "id": "eeb86efd",
   "metadata": {},
   "source": [
    "##### Adding fully connected neural network layer\n",
    "Using a high value of 128 for units (neurons) as image classification is more complex and a higher number of neurons improve the accuracy"
   ]
  },
  {
   "cell_type": "code",
   "execution_count": 20,
   "id": "ae098af6",
   "metadata": {},
   "outputs": [],
   "source": [
    "cnn.add(tf.keras.layers.Dense(units=128, activation='relu'))"
   ]
  },
  {
   "cell_type": "markdown",
   "id": "0ca4bea8",
   "metadata": {},
   "source": [
    "##### Adding the output layer\n",
    "As output is bunary, using units = 1 and using sigmoid activation to understand probability. Softmax is used for multi class classification."
   ]
  },
  {
   "cell_type": "code",
   "execution_count": 21,
   "id": "d6c092aa",
   "metadata": {},
   "outputs": [],
   "source": [
    "cnn.add(tf.keras.layers.Dense(units=1, activation='sigmoid'))"
   ]
  },
  {
   "cell_type": "markdown",
   "id": "0fe9ef1c",
   "metadata": {},
   "source": [
    "#### Training the Convolutional Neural Network\n",
    "'adam' optimizer and 'binary_crossentropy' is used as it is binary classification"
   ]
  },
  {
   "cell_type": "code",
   "execution_count": 22,
   "id": "4055c02f",
   "metadata": {},
   "outputs": [],
   "source": [
    "cnn.compile(optimizer = 'adam', loss = 'binary_crossentropy', metrics = ['accuracy'])"
   ]
  },
  {
   "cell_type": "markdown",
   "id": "691d573a",
   "metadata": {},
   "source": [
    "#### Training and Evaluation\n",
    "This trains the CNN on training dataset and evaluates with test dataset"
   ]
  },
  {
   "cell_type": "code",
   "execution_count": 23,
   "id": "057ef8e1",
   "metadata": {
    "scrolled": true
   },
   "outputs": [
    {
     "name": "stdout",
     "output_type": "stream",
     "text": [
      "Epoch 1/25\n",
      "250/250 [==============================] - 37s 124ms/step - loss: 0.6783 - accuracy: 0.5710 - val_loss: 0.6542 - val_accuracy: 0.6215\n",
      "Epoch 2/25\n",
      "250/250 [==============================] - 25s 100ms/step - loss: 0.6271 - accuracy: 0.6484 - val_loss: 0.6536 - val_accuracy: 0.6310\n",
      "Epoch 3/25\n",
      "250/250 [==============================] - 25s 99ms/step - loss: 0.5929 - accuracy: 0.6924 - val_loss: 0.5975 - val_accuracy: 0.6945\n",
      "Epoch 4/25\n",
      "250/250 [==============================] - 25s 100ms/step - loss: 0.5638 - accuracy: 0.7129 - val_loss: 0.5497 - val_accuracy: 0.7275\n",
      "Epoch 5/25\n",
      "250/250 [==============================] - 25s 100ms/step - loss: 0.5425 - accuracy: 0.7287 - val_loss: 0.5326 - val_accuracy: 0.7485\n",
      "Epoch 6/25\n",
      "250/250 [==============================] - 25s 101ms/step - loss: 0.5098 - accuracy: 0.7500 - val_loss: 0.5806 - val_accuracy: 0.7045\n",
      "Epoch 7/25\n",
      "250/250 [==============================] - 26s 103ms/step - loss: 0.4759 - accuracy: 0.7751 - val_loss: 0.5047 - val_accuracy: 0.7675\n",
      "Epoch 8/25\n",
      "250/250 [==============================] - 26s 103ms/step - loss: 0.4570 - accuracy: 0.7794 - val_loss: 0.5208 - val_accuracy: 0.7485\n",
      "Epoch 9/25\n",
      "250/250 [==============================] - 25s 101ms/step - loss: 0.4360 - accuracy: 0.7956 - val_loss: 0.4820 - val_accuracy: 0.7745\n",
      "Epoch 10/25\n",
      "250/250 [==============================] - 31s 124ms/step - loss: 0.4190 - accuracy: 0.8067 - val_loss: 0.4771 - val_accuracy: 0.7910\n",
      "Epoch 11/25\n",
      "250/250 [==============================] - 26s 106ms/step - loss: 0.3985 - accuracy: 0.8205 - val_loss: 0.4845 - val_accuracy: 0.7770\n",
      "Epoch 12/25\n",
      "250/250 [==============================] - 26s 105ms/step - loss: 0.3812 - accuracy: 0.8303 - val_loss: 0.4961 - val_accuracy: 0.7720\n",
      "Epoch 13/25\n",
      "250/250 [==============================] - 24s 98ms/step - loss: 0.3611 - accuracy: 0.8388 - val_loss: 0.5176 - val_accuracy: 0.7805\n",
      "Epoch 14/25\n",
      "250/250 [==============================] - 25s 100ms/step - loss: 0.3479 - accuracy: 0.8438 - val_loss: 0.4981 - val_accuracy: 0.7870\n",
      "Epoch 15/25\n",
      "250/250 [==============================] - 25s 100ms/step - loss: 0.3281 - accuracy: 0.8580 - val_loss: 0.4946 - val_accuracy: 0.7930\n",
      "Epoch 16/25\n",
      "250/250 [==============================] - 25s 100ms/step - loss: 0.3117 - accuracy: 0.8660 - val_loss: 0.4923 - val_accuracy: 0.7910\n",
      "Epoch 17/25\n",
      "250/250 [==============================] - 25s 100ms/step - loss: 0.3027 - accuracy: 0.8708 - val_loss: 0.4962 - val_accuracy: 0.8065\n",
      "Epoch 18/25\n",
      "250/250 [==============================] - 25s 101ms/step - loss: 0.2694 - accuracy: 0.8870 - val_loss: 0.5286 - val_accuracy: 0.7985\n",
      "Epoch 19/25\n",
      "250/250 [==============================] - 25s 100ms/step - loss: 0.2697 - accuracy: 0.8855 - val_loss: 0.5487 - val_accuracy: 0.8020\n",
      "Epoch 20/25\n",
      "250/250 [==============================] - 25s 101ms/step - loss: 0.2475 - accuracy: 0.8979 - val_loss: 0.5163 - val_accuracy: 0.8010\n",
      "Epoch 21/25\n",
      "250/250 [==============================] - 27s 106ms/step - loss: 0.2285 - accuracy: 0.9061 - val_loss: 0.5451 - val_accuracy: 0.8030\n",
      "Epoch 22/25\n",
      "250/250 [==============================] - 25s 101ms/step - loss: 0.2282 - accuracy: 0.9093 - val_loss: 0.5442 - val_accuracy: 0.7870\n",
      "Epoch 23/25\n",
      "250/250 [==============================] - 25s 102ms/step - loss: 0.2106 - accuracy: 0.9149 - val_loss: 0.5594 - val_accuracy: 0.7825\n",
      "Epoch 24/25\n",
      "250/250 [==============================] - 25s 100ms/step - loss: 0.1934 - accuracy: 0.9254 - val_loss: 0.5937 - val_accuracy: 0.7895\n",
      "Epoch 25/25\n",
      "250/250 [==============================] - 25s 99ms/step - loss: 0.1854 - accuracy: 0.9279 - val_loss: 0.6030 - val_accuracy: 0.7905\n"
     ]
    },
    {
     "data": {
      "text/plain": [
       "<tensorflow.python.keras.callbacks.History at 0x1d52c95b9a0>"
      ]
     },
     "execution_count": 23,
     "metadata": {},
     "output_type": "execute_result"
    }
   ],
   "source": [
    "cnn.fit(x = training_set, validation_data = test_set, epochs = 25)"
   ]
  },
  {
   "cell_type": "markdown",
   "id": "c5e00ddf",
   "metadata": {},
   "source": [
    "#### Prediction on a random new image"
   ]
  },
  {
   "cell_type": "markdown",
   "id": "f196af7c",
   "metadata": {},
   "source": [
    "##### Loading new image for prediction\n",
    "Here a random dog image from internet is used for prediction after changing the target size to the same size as training image size"
   ]
  },
  {
   "cell_type": "code",
   "execution_count": 27,
   "id": "16616c10",
   "metadata": {},
   "outputs": [],
   "source": [
    "import numpy as np\n",
    "from keras.preprocessing import image\n",
    "test_image = image.load_img(r'random_dog_image.jpeg', target_size = (64, 64))"
   ]
  },
  {
   "cell_type": "markdown",
   "id": "630b406d",
   "metadata": {},
   "source": [
    "##### Converting the image to array"
   ]
  },
  {
   "cell_type": "code",
   "execution_count": 28,
   "id": "c428e9ae",
   "metadata": {},
   "outputs": [],
   "source": [
    "test_image = image.img_to_array(test_image)"
   ]
  },
  {
   "cell_type": "markdown",
   "id": "1e47cc2f",
   "metadata": {},
   "source": [
    "##### Adding extra dimension \n",
    "As training was done in batches of 32 and here in prediction we need to add an additional dummy dimension in place of batch."
   ]
  },
  {
   "cell_type": "code",
   "execution_count": 29,
   "id": "0c3a9405",
   "metadata": {},
   "outputs": [],
   "source": [
    "test_image = np.expand_dims(test_image, axis = 0)"
   ]
  },
  {
   "cell_type": "markdown",
   "id": "19a57642",
   "metadata": {},
   "source": [
    "#### Predicting and showing result"
   ]
  },
  {
   "cell_type": "code",
   "execution_count": 30,
   "id": "108c0d79",
   "metadata": {},
   "outputs": [
    {
     "name": "stdout",
     "output_type": "stream",
     "text": [
      "dog\n"
     ]
    }
   ],
   "source": [
    "result = cnn.predict(test_image)\n",
    "training_set.class_indices\n",
    "if result[0][0] == 1:\n",
    "    prediction = 'dog'\n",
    "else:\n",
    "    prediction = 'cat'\n",
    "print(prediction)"
   ]
  },
  {
   "cell_type": "markdown",
   "id": "2e3c1231",
   "metadata": {},
   "source": [
    "##### Repeating prediction for a randon cat image"
   ]
  },
  {
   "cell_type": "code",
   "execution_count": 32,
   "id": "2eeda46e",
   "metadata": {},
   "outputs": [
    {
     "name": "stdout",
     "output_type": "stream",
     "text": [
      "cat\n"
     ]
    }
   ],
   "source": [
    "test_image = image.load_img(r'kitten.jpg', target_size = (64, 64))\n",
    "test_image = image.img_to_array(test_image)\n",
    "test_image = np.expand_dims(test_image, axis = 0)\n",
    "result = cnn.predict(test_image)\n",
    "training_set.class_indices\n",
    "if result[0][0] == 1:\n",
    "    prediction = 'dog'\n",
    "else:\n",
    "    prediction = 'cat'\n",
    "print(prediction)"
   ]
  }
 ],
 "metadata": {
  "kernelspec": {
   "display_name": "Python 3",
   "language": "python",
   "name": "python3"
  },
  "language_info": {
   "codemirror_mode": {
    "name": "ipython",
    "version": 3
   },
   "file_extension": ".py",
   "mimetype": "text/x-python",
   "name": "python",
   "nbconvert_exporter": "python",
   "pygments_lexer": "ipython3",
   "version": "3.9.5"
  }
 },
 "nbformat": 4,
 "nbformat_minor": 5
}
